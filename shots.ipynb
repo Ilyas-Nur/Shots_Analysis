{
 "cells": [
  {
   "cell_type": "markdown",
   "id": "557f97d6-39c7-4642-a294-1b90412e3a51",
   "metadata": {
    "tags": []
   },
   "source": [
    "# Data Science & Solutions Technical Assessment"
   ]
  },
  {
   "cell_type": "markdown",
   "id": "901fd9ee-8148-4e99-a0be-a2729754f41c",
   "metadata": {},
   "source": [
    "##### Going to import Pandas because it is a well-suited library for analyzing datasets like shots data"
   ]
  },
  {
   "cell_type": "code",
   "execution_count": 1,
   "id": "f257e577-fa5d-48d7-8b3d-fe08682b380c",
   "metadata": {},
   "outputs": [],
   "source": [
    "import pandas as pd"
   ]
  },
  {
   "cell_type": "markdown",
   "id": "11c6670b-9cf2-4b8e-a442-eb15d73a901c",
   "metadata": {},
   "source": [
    "##### Read in the shots data csv file"
   ]
  },
  {
   "cell_type": "code",
   "execution_count": 2,
   "id": "a5331bce-f39e-4681-9f7a-85f061d1cfa9",
   "metadata": {},
   "outputs": [],
   "source": [
    "df = pd.read_csv(\"shots_data.csv\")"
   ]
  },
  {
   "cell_type": "markdown",
   "id": "4d08d27d-0590-42ae-9e11-80fe88f9ede7",
   "metadata": {},
   "source": [
    "##### Print the dataframe"
   ]
  },
  {
   "cell_type": "code",
   "execution_count": 3,
   "id": "fb41c85a-dd62-4c84-bcfe-1ac8c9bdb04e",
   "metadata": {},
   "outputs": [
    {
     "data": {
      "text/html": [
       "<div>\n",
       "<style scoped>\n",
       "    .dataframe tbody tr th:only-of-type {\n",
       "        vertical-align: middle;\n",
       "    }\n",
       "\n",
       "    .dataframe tbody tr th {\n",
       "        vertical-align: top;\n",
       "    }\n",
       "\n",
       "    .dataframe thead th {\n",
       "        text-align: right;\n",
       "    }\n",
       "</style>\n",
       "<table border=\"1\" class=\"dataframe\">\n",
       "  <thead>\n",
       "    <tr style=\"text-align: right;\">\n",
       "      <th></th>\n",
       "      <th>team</th>\n",
       "      <th>x</th>\n",
       "      <th>y</th>\n",
       "      <th>fgmade</th>\n",
       "    </tr>\n",
       "  </thead>\n",
       "  <tbody>\n",
       "    <tr>\n",
       "      <th>0</th>\n",
       "      <td>Team A</td>\n",
       "      <td>-23.1</td>\n",
       "      <td>3.5</td>\n",
       "      <td>0</td>\n",
       "    </tr>\n",
       "    <tr>\n",
       "      <th>1</th>\n",
       "      <td>Team A</td>\n",
       "      <td>0.0</td>\n",
       "      <td>25.1</td>\n",
       "      <td>1</td>\n",
       "    </tr>\n",
       "    <tr>\n",
       "      <th>2</th>\n",
       "      <td>Team A</td>\n",
       "      <td>0.5</td>\n",
       "      <td>1.0</td>\n",
       "      <td>1</td>\n",
       "    </tr>\n",
       "    <tr>\n",
       "      <th>3</th>\n",
       "      <td>Team A</td>\n",
       "      <td>-5.6</td>\n",
       "      <td>5.2</td>\n",
       "      <td>0</td>\n",
       "    </tr>\n",
       "    <tr>\n",
       "      <th>4</th>\n",
       "      <td>Team A</td>\n",
       "      <td>4.0</td>\n",
       "      <td>14.5</td>\n",
       "      <td>1</td>\n",
       "    </tr>\n",
       "    <tr>\n",
       "      <th>...</th>\n",
       "      <td>...</td>\n",
       "      <td>...</td>\n",
       "      <td>...</td>\n",
       "      <td>...</td>\n",
       "    </tr>\n",
       "    <tr>\n",
       "      <th>555</th>\n",
       "      <td>Team B</td>\n",
       "      <td>7.8</td>\n",
       "      <td>24.7</td>\n",
       "      <td>0</td>\n",
       "    </tr>\n",
       "    <tr>\n",
       "      <th>556</th>\n",
       "      <td>Team B</td>\n",
       "      <td>10.1</td>\n",
       "      <td>1.4</td>\n",
       "      <td>1</td>\n",
       "    </tr>\n",
       "    <tr>\n",
       "      <th>557</th>\n",
       "      <td>Team B</td>\n",
       "      <td>-17.8</td>\n",
       "      <td>-0.1</td>\n",
       "      <td>0</td>\n",
       "    </tr>\n",
       "    <tr>\n",
       "      <th>558</th>\n",
       "      <td>Team B</td>\n",
       "      <td>22.6</td>\n",
       "      <td>2.9</td>\n",
       "      <td>0</td>\n",
       "    </tr>\n",
       "    <tr>\n",
       "      <th>559</th>\n",
       "      <td>Team B</td>\n",
       "      <td>-0.7</td>\n",
       "      <td>14.7</td>\n",
       "      <td>1</td>\n",
       "    </tr>\n",
       "  </tbody>\n",
       "</table>\n",
       "<p>560 rows × 4 columns</p>\n",
       "</div>"
      ],
      "text/plain": [
       "       team     x     y  fgmade\n",
       "0    Team A -23.1   3.5       0\n",
       "1    Team A   0.0  25.1       1\n",
       "2    Team A   0.5   1.0       1\n",
       "3    Team A  -5.6   5.2       0\n",
       "4    Team A   4.0  14.5       1\n",
       "..      ...   ...   ...     ...\n",
       "555  Team B   7.8  24.7       0\n",
       "556  Team B  10.1   1.4       1\n",
       "557  Team B -17.8  -0.1       0\n",
       "558  Team B  22.6   2.9       0\n",
       "559  Team B  -0.7  14.7       1\n",
       "\n",
       "[560 rows x 4 columns]"
      ]
     },
     "execution_count": 3,
     "metadata": {},
     "output_type": "execute_result"
    }
   ],
   "source": [
    "df"
   ]
  },
  {
   "cell_type": "markdown",
   "id": "64b3704a-317e-484e-a3be-88d74fad5327",
   "metadata": {},
   "source": [
    "#### This method can determine the shot zone based on the coordinates of where the shot was taken"
   ]
  },
  {
   "cell_type": "code",
   "execution_count": 4,
   "id": "6f80a8c2-ffdc-4e71-b95a-baab4b547291",
   "metadata": {},
   "outputs": [],
   "source": [
    "def shot_zone(x, y):\n",
    "    if (abs(x) >= 22.0) and (y <= 7.8):\n",
    "        return \"C3\"\n",
    "    elif ((abs(x) <= 23.75) and (y > 7.8)) and y > 23.75:\n",
    "        return \"NC3\"\n",
    "    else:\n",
    "        return \"2PT\""
   ]
  },
  {
   "cell_type": "markdown",
   "id": "5fdbb5bd-94bf-4eab-9ed5-016219b7998d",
   "metadata": {},
   "source": [
    "##### Apply the method"
   ]
  },
  {
   "cell_type": "code",
   "execution_count": 5,
   "id": "22ce4282-5777-4a29-a058-60870ca9f06f",
   "metadata": {},
   "outputs": [],
   "source": [
    "df[\"shot_zone\"] = df.apply(lambda row: shot_zone(row.x, row.y), axis=1)"
   ]
  },
  {
   "cell_type": "markdown",
   "id": "8dd5ccd9-4a89-4834-a17a-bb2bbc874036",
   "metadata": {},
   "source": [
    "##### New dataframe including shot zones"
   ]
  },
  {
   "cell_type": "code",
   "execution_count": 6,
   "id": "ce281ff5-6f3b-45d5-990d-3c427fe3ac62",
   "metadata": {},
   "outputs": [
    {
     "data": {
      "text/html": [
       "<div>\n",
       "<style scoped>\n",
       "    .dataframe tbody tr th:only-of-type {\n",
       "        vertical-align: middle;\n",
       "    }\n",
       "\n",
       "    .dataframe tbody tr th {\n",
       "        vertical-align: top;\n",
       "    }\n",
       "\n",
       "    .dataframe thead th {\n",
       "        text-align: right;\n",
       "    }\n",
       "</style>\n",
       "<table border=\"1\" class=\"dataframe\">\n",
       "  <thead>\n",
       "    <tr style=\"text-align: right;\">\n",
       "      <th></th>\n",
       "      <th>team</th>\n",
       "      <th>x</th>\n",
       "      <th>y</th>\n",
       "      <th>fgmade</th>\n",
       "      <th>shot_zone</th>\n",
       "    </tr>\n",
       "  </thead>\n",
       "  <tbody>\n",
       "    <tr>\n",
       "      <th>0</th>\n",
       "      <td>Team A</td>\n",
       "      <td>-23.1</td>\n",
       "      <td>3.5</td>\n",
       "      <td>0</td>\n",
       "      <td>C3</td>\n",
       "    </tr>\n",
       "    <tr>\n",
       "      <th>1</th>\n",
       "      <td>Team A</td>\n",
       "      <td>0.0</td>\n",
       "      <td>25.1</td>\n",
       "      <td>1</td>\n",
       "      <td>NC3</td>\n",
       "    </tr>\n",
       "    <tr>\n",
       "      <th>2</th>\n",
       "      <td>Team A</td>\n",
       "      <td>0.5</td>\n",
       "      <td>1.0</td>\n",
       "      <td>1</td>\n",
       "      <td>2PT</td>\n",
       "    </tr>\n",
       "    <tr>\n",
       "      <th>3</th>\n",
       "      <td>Team A</td>\n",
       "      <td>-5.6</td>\n",
       "      <td>5.2</td>\n",
       "      <td>0</td>\n",
       "      <td>2PT</td>\n",
       "    </tr>\n",
       "    <tr>\n",
       "      <th>4</th>\n",
       "      <td>Team A</td>\n",
       "      <td>4.0</td>\n",
       "      <td>14.5</td>\n",
       "      <td>1</td>\n",
       "      <td>2PT</td>\n",
       "    </tr>\n",
       "    <tr>\n",
       "      <th>...</th>\n",
       "      <td>...</td>\n",
       "      <td>...</td>\n",
       "      <td>...</td>\n",
       "      <td>...</td>\n",
       "      <td>...</td>\n",
       "    </tr>\n",
       "    <tr>\n",
       "      <th>555</th>\n",
       "      <td>Team B</td>\n",
       "      <td>7.8</td>\n",
       "      <td>24.7</td>\n",
       "      <td>0</td>\n",
       "      <td>NC3</td>\n",
       "    </tr>\n",
       "    <tr>\n",
       "      <th>556</th>\n",
       "      <td>Team B</td>\n",
       "      <td>10.1</td>\n",
       "      <td>1.4</td>\n",
       "      <td>1</td>\n",
       "      <td>2PT</td>\n",
       "    </tr>\n",
       "    <tr>\n",
       "      <th>557</th>\n",
       "      <td>Team B</td>\n",
       "      <td>-17.8</td>\n",
       "      <td>-0.1</td>\n",
       "      <td>0</td>\n",
       "      <td>2PT</td>\n",
       "    </tr>\n",
       "    <tr>\n",
       "      <th>558</th>\n",
       "      <td>Team B</td>\n",
       "      <td>22.6</td>\n",
       "      <td>2.9</td>\n",
       "      <td>0</td>\n",
       "      <td>C3</td>\n",
       "    </tr>\n",
       "    <tr>\n",
       "      <th>559</th>\n",
       "      <td>Team B</td>\n",
       "      <td>-0.7</td>\n",
       "      <td>14.7</td>\n",
       "      <td>1</td>\n",
       "      <td>2PT</td>\n",
       "    </tr>\n",
       "  </tbody>\n",
       "</table>\n",
       "<p>560 rows × 5 columns</p>\n",
       "</div>"
      ],
      "text/plain": [
       "       team     x     y  fgmade shot_zone\n",
       "0    Team A -23.1   3.5       0        C3\n",
       "1    Team A   0.0  25.1       1       NC3\n",
       "2    Team A   0.5   1.0       1       2PT\n",
       "3    Team A  -5.6   5.2       0       2PT\n",
       "4    Team A   4.0  14.5       1       2PT\n",
       "..      ...   ...   ...     ...       ...\n",
       "555  Team B   7.8  24.7       0       NC3\n",
       "556  Team B  10.1   1.4       1       2PT\n",
       "557  Team B -17.8  -0.1       0       2PT\n",
       "558  Team B  22.6   2.9       0        C3\n",
       "559  Team B  -0.7  14.7       1       2PT\n",
       "\n",
       "[560 rows x 5 columns]"
      ]
     },
     "execution_count": 6,
     "metadata": {},
     "output_type": "execute_result"
    }
   ],
   "source": [
    "df"
   ]
  },
  {
   "cell_type": "markdown",
   "id": "7568036b-9996-4097-9d3c-6a23fcfbf362",
   "metadata": {},
   "source": [
    "# Team A"
   ]
  },
  {
   "cell_type": "code",
   "execution_count": 7,
   "id": "ecf3a0cc-3b53-492a-b7dc-7ced0b1f5631",
   "metadata": {},
   "outputs": [],
   "source": [
    "team_a_stats = df.loc[df[\"team\"] == \"Team A\"]"
   ]
  },
  {
   "cell_type": "code",
   "execution_count": 8,
   "id": "7cb3c49c-2ea8-4485-ab50-ecbc673f1c64",
   "metadata": {},
   "outputs": [
    {
     "data": {
      "text/html": [
       "<div>\n",
       "<style scoped>\n",
       "    .dataframe tbody tr th:only-of-type {\n",
       "        vertical-align: middle;\n",
       "    }\n",
       "\n",
       "    .dataframe tbody tr th {\n",
       "        vertical-align: top;\n",
       "    }\n",
       "\n",
       "    .dataframe thead th {\n",
       "        text-align: right;\n",
       "    }\n",
       "</style>\n",
       "<table border=\"1\" class=\"dataframe\">\n",
       "  <thead>\n",
       "    <tr style=\"text-align: right;\">\n",
       "      <th></th>\n",
       "      <th>team</th>\n",
       "      <th>x</th>\n",
       "      <th>y</th>\n",
       "      <th>fgmade</th>\n",
       "      <th>shot_zone</th>\n",
       "    </tr>\n",
       "  </thead>\n",
       "  <tbody>\n",
       "    <tr>\n",
       "      <th>0</th>\n",
       "      <td>Team A</td>\n",
       "      <td>-23.1</td>\n",
       "      <td>3.5</td>\n",
       "      <td>0</td>\n",
       "      <td>C3</td>\n",
       "    </tr>\n",
       "    <tr>\n",
       "      <th>1</th>\n",
       "      <td>Team A</td>\n",
       "      <td>0.0</td>\n",
       "      <td>25.1</td>\n",
       "      <td>1</td>\n",
       "      <td>NC3</td>\n",
       "    </tr>\n",
       "    <tr>\n",
       "      <th>2</th>\n",
       "      <td>Team A</td>\n",
       "      <td>0.5</td>\n",
       "      <td>1.0</td>\n",
       "      <td>1</td>\n",
       "      <td>2PT</td>\n",
       "    </tr>\n",
       "    <tr>\n",
       "      <th>3</th>\n",
       "      <td>Team A</td>\n",
       "      <td>-5.6</td>\n",
       "      <td>5.2</td>\n",
       "      <td>0</td>\n",
       "      <td>2PT</td>\n",
       "    </tr>\n",
       "    <tr>\n",
       "      <th>4</th>\n",
       "      <td>Team A</td>\n",
       "      <td>4.0</td>\n",
       "      <td>14.5</td>\n",
       "      <td>1</td>\n",
       "      <td>2PT</td>\n",
       "    </tr>\n",
       "    <tr>\n",
       "      <th>...</th>\n",
       "      <td>...</td>\n",
       "      <td>...</td>\n",
       "      <td>...</td>\n",
       "      <td>...</td>\n",
       "      <td>...</td>\n",
       "    </tr>\n",
       "    <tr>\n",
       "      <th>275</th>\n",
       "      <td>Team A</td>\n",
       "      <td>23.0</td>\n",
       "      <td>4.7</td>\n",
       "      <td>1</td>\n",
       "      <td>C3</td>\n",
       "    </tr>\n",
       "    <tr>\n",
       "      <th>276</th>\n",
       "      <td>Team A</td>\n",
       "      <td>-3.0</td>\n",
       "      <td>25.4</td>\n",
       "      <td>0</td>\n",
       "      <td>NC3</td>\n",
       "    </tr>\n",
       "    <tr>\n",
       "      <th>277</th>\n",
       "      <td>Team A</td>\n",
       "      <td>-8.0</td>\n",
       "      <td>2.6</td>\n",
       "      <td>1</td>\n",
       "      <td>2PT</td>\n",
       "    </tr>\n",
       "    <tr>\n",
       "      <th>278</th>\n",
       "      <td>Team A</td>\n",
       "      <td>-7.6</td>\n",
       "      <td>1.7</td>\n",
       "      <td>0</td>\n",
       "      <td>2PT</td>\n",
       "    </tr>\n",
       "    <tr>\n",
       "      <th>279</th>\n",
       "      <td>Team A</td>\n",
       "      <td>-5.5</td>\n",
       "      <td>6.2</td>\n",
       "      <td>1</td>\n",
       "      <td>2PT</td>\n",
       "    </tr>\n",
       "  </tbody>\n",
       "</table>\n",
       "<p>280 rows × 5 columns</p>\n",
       "</div>"
      ],
      "text/plain": [
       "       team     x     y  fgmade shot_zone\n",
       "0    Team A -23.1   3.5       0        C3\n",
       "1    Team A   0.0  25.1       1       NC3\n",
       "2    Team A   0.5   1.0       1       2PT\n",
       "3    Team A  -5.6   5.2       0       2PT\n",
       "4    Team A   4.0  14.5       1       2PT\n",
       "..      ...   ...   ...     ...       ...\n",
       "275  Team A  23.0   4.7       1        C3\n",
       "276  Team A  -3.0  25.4       0       NC3\n",
       "277  Team A  -8.0   2.6       1       2PT\n",
       "278  Team A  -7.6   1.7       0       2PT\n",
       "279  Team A  -5.5   6.2       1       2PT\n",
       "\n",
       "[280 rows x 5 columns]"
      ]
     },
     "execution_count": 8,
     "metadata": {},
     "output_type": "execute_result"
    }
   ],
   "source": [
    "team_a_stats"
   ]
  },
  {
   "cell_type": "code",
   "execution_count": 9,
   "id": "fa745026-5381-443c-8db0-c4862b7f2d56",
   "metadata": {},
   "outputs": [],
   "source": [
    "team_a_distrib = team_a_stats.groupby(\"shot_zone\").count() /len(team_a_stats)"
   ]
  },
  {
   "cell_type": "code",
   "execution_count": 10,
   "id": "90a56b43-7d6a-46f1-a71f-debb32714f7f",
   "metadata": {},
   "outputs": [
    {
     "data": {
      "text/html": [
       "<div>\n",
       "<style scoped>\n",
       "    .dataframe tbody tr th:only-of-type {\n",
       "        vertical-align: middle;\n",
       "    }\n",
       "\n",
       "    .dataframe tbody tr th {\n",
       "        vertical-align: top;\n",
       "    }\n",
       "\n",
       "    .dataframe thead th {\n",
       "        text-align: right;\n",
       "    }\n",
       "</style>\n",
       "<table border=\"1\" class=\"dataframe\">\n",
       "  <thead>\n",
       "    <tr style=\"text-align: right;\">\n",
       "      <th></th>\n",
       "      <th>team</th>\n",
       "      <th>x</th>\n",
       "      <th>y</th>\n",
       "      <th>fgmade</th>\n",
       "    </tr>\n",
       "    <tr>\n",
       "      <th>shot_zone</th>\n",
       "      <th></th>\n",
       "      <th></th>\n",
       "      <th></th>\n",
       "      <th></th>\n",
       "    </tr>\n",
       "  </thead>\n",
       "  <tbody>\n",
       "    <tr>\n",
       "      <th>2PT</th>\n",
       "      <td>0.778571</td>\n",
       "      <td>0.778571</td>\n",
       "      <td>0.778571</td>\n",
       "      <td>0.778571</td>\n",
       "    </tr>\n",
       "    <tr>\n",
       "      <th>C3</th>\n",
       "      <td>0.071429</td>\n",
       "      <td>0.071429</td>\n",
       "      <td>0.071429</td>\n",
       "      <td>0.071429</td>\n",
       "    </tr>\n",
       "    <tr>\n",
       "      <th>NC3</th>\n",
       "      <td>0.150000</td>\n",
       "      <td>0.150000</td>\n",
       "      <td>0.150000</td>\n",
       "      <td>0.150000</td>\n",
       "    </tr>\n",
       "  </tbody>\n",
       "</table>\n",
       "</div>"
      ],
      "text/plain": [
       "               team         x         y    fgmade\n",
       "shot_zone                                        \n",
       "2PT        0.778571  0.778571  0.778571  0.778571\n",
       "C3         0.071429  0.071429  0.071429  0.071429\n",
       "NC3        0.150000  0.150000  0.150000  0.150000"
      ]
     },
     "execution_count": 10,
     "metadata": {},
     "output_type": "execute_result"
    }
   ],
   "source": [
    "team_a_distrib"
   ]
  },
  {
   "cell_type": "code",
   "execution_count": 11,
   "id": "8a9ff7a5-21e5-4a34-8b75-15640cc26297",
   "metadata": {},
   "outputs": [],
   "source": [
    "team_a_distrib = team_a_distrib.drop([\"team\", \"x\", \"y\"],axis = 1)"
   ]
  },
  {
   "cell_type": "markdown",
   "id": "bb53063f-9e52-48e9-b2e3-6d9519a50ccf",
   "metadata": {
    "tags": []
   },
   "source": [
    "### **This is the percentage of team A shots within each zone**"
   ]
  },
  {
   "cell_type": "code",
   "execution_count": 12,
   "id": "11d09378-f449-4cc7-b728-5818d08d13ba",
   "metadata": {},
   "outputs": [
    {
     "data": {
      "text/html": [
       "<div>\n",
       "<style scoped>\n",
       "    .dataframe tbody tr th:only-of-type {\n",
       "        vertical-align: middle;\n",
       "    }\n",
       "\n",
       "    .dataframe tbody tr th {\n",
       "        vertical-align: top;\n",
       "    }\n",
       "\n",
       "    .dataframe thead th {\n",
       "        text-align: right;\n",
       "    }\n",
       "</style>\n",
       "<table border=\"1\" class=\"dataframe\">\n",
       "  <thead>\n",
       "    <tr style=\"text-align: right;\">\n",
       "      <th></th>\n",
       "      <th>fgmade</th>\n",
       "    </tr>\n",
       "    <tr>\n",
       "      <th>shot_zone</th>\n",
       "      <th></th>\n",
       "    </tr>\n",
       "  </thead>\n",
       "  <tbody>\n",
       "    <tr>\n",
       "      <th>2PT</th>\n",
       "      <td>0.778571</td>\n",
       "    </tr>\n",
       "    <tr>\n",
       "      <th>C3</th>\n",
       "      <td>0.071429</td>\n",
       "    </tr>\n",
       "    <tr>\n",
       "      <th>NC3</th>\n",
       "      <td>0.150000</td>\n",
       "    </tr>\n",
       "  </tbody>\n",
       "</table>\n",
       "</div>"
      ],
      "text/plain": [
       "             fgmade\n",
       "shot_zone          \n",
       "2PT        0.778571\n",
       "C3         0.071429\n",
       "NC3        0.150000"
      ]
     },
     "execution_count": 12,
     "metadata": {},
     "output_type": "execute_result"
    }
   ],
   "source": [
    "team_a_distrib"
   ]
  },
  {
   "cell_type": "markdown",
   "id": "93e8d5d7-8247-464e-91ca-4ee4be0ea95e",
   "metadata": {},
   "source": [
    "### Now we are going to find the `effective field goal %` for each shot zone for **Team A**"
   ]
  },
  {
   "cell_type": "markdown",
   "id": "b946ab16-38f7-4438-9b13-257d64e9aef9",
   "metadata": {},
   "source": [
    "### **Corner Threes**"
   ]
  },
  {
   "cell_type": "code",
   "execution_count": 13,
   "id": "3dda25d2-cf25-4dfe-a4f7-abed97094ee8",
   "metadata": {},
   "outputs": [],
   "source": [
    "corner_threes = team_a_stats[team_a_stats[\"shot_zone\"] == \"C3\"]"
   ]
  },
  {
   "cell_type": "code",
   "execution_count": 14,
   "id": "90f59130-05f0-4eaf-b4f7-b53c969edf7c",
   "metadata": {},
   "outputs": [
    {
     "data": {
      "text/plain": [
       "20"
      ]
     },
     "execution_count": 14,
     "metadata": {},
     "output_type": "execute_result"
    }
   ],
   "source": [
    "len(corner_threes)"
   ]
  },
  {
   "cell_type": "code",
   "execution_count": 15,
   "id": "0ad256be-1187-4193-a7a7-3b58eff10fcc",
   "metadata": {
    "tags": []
   },
   "outputs": [],
   "source": [
    "team_a_corner_makes = int(len(corner_threes[corner_threes[\"fgmade\"] == 1]))"
   ]
  },
  {
   "cell_type": "code",
   "execution_count": 16,
   "id": "881c4d0c-43c4-4eeb-bf1b-ed610dfedde5",
   "metadata": {},
   "outputs": [
    {
     "data": {
      "text/plain": [
       "8"
      ]
     },
     "execution_count": 16,
     "metadata": {},
     "output_type": "execute_result"
    }
   ],
   "source": [
    "team_a_corner_makes"
   ]
  },
  {
   "cell_type": "code",
   "execution_count": 17,
   "id": "ccb5b5b5-c840-45af-8fd3-b4b6792fc50d",
   "metadata": {},
   "outputs": [],
   "source": [
    "c3_eff_fg_percentage = (team_a_corner_makes + (0.5 * team_a_corner_makes))/ int(len(corner_threes))"
   ]
  },
  {
   "cell_type": "code",
   "execution_count": 18,
   "id": "dbdda38e-b459-43a3-8b59-b97d088fe631",
   "metadata": {},
   "outputs": [
    {
     "data": {
      "text/plain": [
       "0.6"
      ]
     },
     "execution_count": 18,
     "metadata": {},
     "output_type": "execute_result"
    }
   ],
   "source": [
    "c3_eff_fg_percentage"
   ]
  },
  {
   "cell_type": "markdown",
   "id": "266219f8-84eb-4c7a-a682-aadd0ab77ff6",
   "metadata": {
    "tags": []
   },
   "source": [
    "#### Once we do this calculation,  we can conclude that the effective field goal percentage for Team A for Corner 3s is `60%`"
   ]
  },
  {
   "cell_type": "markdown",
   "id": "16a13ad4-fff6-4cea-9d49-5066cc855814",
   "metadata": {},
   "source": [
    "### **Non-Corner Threes**"
   ]
  },
  {
   "cell_type": "code",
   "execution_count": 19,
   "id": "3c71d16b-8802-4364-82f1-5e86f1f45d07",
   "metadata": {},
   "outputs": [],
   "source": [
    "team_a_nc3s = team_a_stats[team_a_stats[\"shot_zone\"] == \"NC3\"]"
   ]
  },
  {
   "cell_type": "code",
   "execution_count": 20,
   "id": "785c2191-1b55-4d86-b642-97464ff42ca9",
   "metadata": {},
   "outputs": [
    {
     "data": {
      "text/plain": [
       "42"
      ]
     },
     "execution_count": 20,
     "metadata": {},
     "output_type": "execute_result"
    }
   ],
   "source": [
    "len(team_a_nc3s)"
   ]
  },
  {
   "cell_type": "code",
   "execution_count": 21,
   "id": "211685e2-a2a9-4e23-8951-23711fb5f0d1",
   "metadata": {},
   "outputs": [],
   "source": [
    "team_a_nc3_makes = int(len(team_a_nc3s[team_a_nc3s[\"fgmade\"] == 1]))"
   ]
  },
  {
   "cell_type": "code",
   "execution_count": 22,
   "id": "93872c78-fbc1-40dc-babb-356296af35fe",
   "metadata": {},
   "outputs": [
    {
     "data": {
      "text/plain": [
       "15"
      ]
     },
     "execution_count": 22,
     "metadata": {},
     "output_type": "execute_result"
    }
   ],
   "source": [
    "team_a_nc3_makes"
   ]
  },
  {
   "cell_type": "code",
   "execution_count": 23,
   "id": "60f4282f-54fc-48d0-8973-e0a020aa7136",
   "metadata": {},
   "outputs": [],
   "source": [
    "nc3_eff_fg_percentage = (team_a_nc3_makes + (0.5 * team_a_nc3_makes))/ int(len(team_a_nc3s))"
   ]
  },
  {
   "cell_type": "code",
   "execution_count": 24,
   "id": "f06c9453-813e-4ed4-9c10-6338af9667d0",
   "metadata": {},
   "outputs": [
    {
     "data": {
      "text/plain": [
       "0.5357142857142857"
      ]
     },
     "execution_count": 24,
     "metadata": {},
     "output_type": "execute_result"
    }
   ],
   "source": [
    "nc3_eff_fg_percentage"
   ]
  },
  {
   "cell_type": "markdown",
   "id": "f50f8970-3f9c-482a-9778-3f39601aaf99",
   "metadata": {},
   "source": [
    "#### Once we do this calculation,  we can conclude that the effective field goal percentage for Team A for Non-Corner 3s is `53.6%`"
   ]
  },
  {
   "cell_type": "markdown",
   "id": "ea503bc5-5495-4224-a793-537448a336bb",
   "metadata": {},
   "source": [
    "### **2PT**"
   ]
  },
  {
   "cell_type": "code",
   "execution_count": 25,
   "id": "ed8ec4de-2665-44ee-ab44-26e03b181563",
   "metadata": {},
   "outputs": [],
   "source": [
    "team_a_2pt_attempts = team_a_stats[team_a_stats[\"shot_zone\"] == \"2PT\"]"
   ]
  },
  {
   "cell_type": "code",
   "execution_count": 26,
   "id": "8b216912-38a5-45ab-a432-141fcf11869d",
   "metadata": {},
   "outputs": [
    {
     "data": {
      "text/plain": [
       "218"
      ]
     },
     "execution_count": 26,
     "metadata": {},
     "output_type": "execute_result"
    }
   ],
   "source": [
    "len(team_a_2pt_attempts)"
   ]
  },
  {
   "cell_type": "code",
   "execution_count": 27,
   "id": "d2a5733a-a9f4-40b4-9fe5-a15a6a04e87d",
   "metadata": {},
   "outputs": [],
   "source": [
    "team_a_2pt_makes = int(len(team_a_2pt_attempts[team_a_2pt_attempts[\"fgmade\"] == 1]))"
   ]
  },
  {
   "cell_type": "code",
   "execution_count": 28,
   "id": "6d32b5b9-66d0-4cdd-8009-654ffde84dbb",
   "metadata": {},
   "outputs": [
    {
     "data": {
      "text/plain": [
       "82"
      ]
     },
     "execution_count": 28,
     "metadata": {},
     "output_type": "execute_result"
    }
   ],
   "source": [
    "team_a_2pt_makes"
   ]
  },
  {
   "cell_type": "code",
   "execution_count": 29,
   "id": "42ecc282-1d2e-4fca-af68-71a9f13d6c01",
   "metadata": {},
   "outputs": [],
   "source": [
    "two_pt_eff_fg_percentage = team_a_2pt_makes / int(len(team_a_2pt_attempts))"
   ]
  },
  {
   "cell_type": "code",
   "execution_count": 30,
   "id": "67b4f58c-1898-4c21-9167-ef463a172de6",
   "metadata": {},
   "outputs": [
    {
     "data": {
      "text/plain": [
       "0.3761467889908257"
      ]
     },
     "execution_count": 30,
     "metadata": {},
     "output_type": "execute_result"
    }
   ],
   "source": [
    "two_pt_eff_fg_percentage"
   ]
  },
  {
   "cell_type": "markdown",
   "id": "3ddc96a6-3109-4460-9ef7-d3bd0259adce",
   "metadata": {},
   "source": [
    "#### Once we do this calculation, we can conclude that the effective field goal percentage for Team A for 2PTs is `37.6%`"
   ]
  },
  {
   "cell_type": "markdown",
   "id": "2fd7436c-f6e0-4be4-850c-fd41ea96fb74",
   "metadata": {
    "tags": []
   },
   "source": [
    "## Team B"
   ]
  },
  {
   "cell_type": "code",
   "execution_count": 31,
   "id": "a528b87b-54ad-42e3-b8cf-27b5e8553121",
   "metadata": {},
   "outputs": [],
   "source": [
    "team_b_stats = df.loc[df[\"team\"] == \"Team B\"]"
   ]
  },
  {
   "cell_type": "code",
   "execution_count": 32,
   "id": "406b6360-a1b3-46a8-ba34-aeb7b2dc1629",
   "metadata": {},
   "outputs": [
    {
     "data": {
      "text/html": [
       "<div>\n",
       "<style scoped>\n",
       "    .dataframe tbody tr th:only-of-type {\n",
       "        vertical-align: middle;\n",
       "    }\n",
       "\n",
       "    .dataframe tbody tr th {\n",
       "        vertical-align: top;\n",
       "    }\n",
       "\n",
       "    .dataframe thead th {\n",
       "        text-align: right;\n",
       "    }\n",
       "</style>\n",
       "<table border=\"1\" class=\"dataframe\">\n",
       "  <thead>\n",
       "    <tr style=\"text-align: right;\">\n",
       "      <th></th>\n",
       "      <th>team</th>\n",
       "      <th>x</th>\n",
       "      <th>y</th>\n",
       "      <th>fgmade</th>\n",
       "      <th>shot_zone</th>\n",
       "    </tr>\n",
       "  </thead>\n",
       "  <tbody>\n",
       "    <tr>\n",
       "      <th>280</th>\n",
       "      <td>Team B</td>\n",
       "      <td>2.5</td>\n",
       "      <td>6.2</td>\n",
       "      <td>0</td>\n",
       "      <td>2PT</td>\n",
       "    </tr>\n",
       "    <tr>\n",
       "      <th>281</th>\n",
       "      <td>Team B</td>\n",
       "      <td>7.4</td>\n",
       "      <td>18.3</td>\n",
       "      <td>1</td>\n",
       "      <td>2PT</td>\n",
       "    </tr>\n",
       "    <tr>\n",
       "      <th>282</th>\n",
       "      <td>Team B</td>\n",
       "      <td>1.1</td>\n",
       "      <td>0.1</td>\n",
       "      <td>0</td>\n",
       "      <td>2PT</td>\n",
       "    </tr>\n",
       "    <tr>\n",
       "      <th>283</th>\n",
       "      <td>Team B</td>\n",
       "      <td>-1.6</td>\n",
       "      <td>25.6</td>\n",
       "      <td>0</td>\n",
       "      <td>NC3</td>\n",
       "    </tr>\n",
       "    <tr>\n",
       "      <th>284</th>\n",
       "      <td>Team B</td>\n",
       "      <td>-14.4</td>\n",
       "      <td>21.7</td>\n",
       "      <td>1</td>\n",
       "      <td>2PT</td>\n",
       "    </tr>\n",
       "    <tr>\n",
       "      <th>...</th>\n",
       "      <td>...</td>\n",
       "      <td>...</td>\n",
       "      <td>...</td>\n",
       "      <td>...</td>\n",
       "      <td>...</td>\n",
       "    </tr>\n",
       "    <tr>\n",
       "      <th>555</th>\n",
       "      <td>Team B</td>\n",
       "      <td>7.8</td>\n",
       "      <td>24.7</td>\n",
       "      <td>0</td>\n",
       "      <td>NC3</td>\n",
       "    </tr>\n",
       "    <tr>\n",
       "      <th>556</th>\n",
       "      <td>Team B</td>\n",
       "      <td>10.1</td>\n",
       "      <td>1.4</td>\n",
       "      <td>1</td>\n",
       "      <td>2PT</td>\n",
       "    </tr>\n",
       "    <tr>\n",
       "      <th>557</th>\n",
       "      <td>Team B</td>\n",
       "      <td>-17.8</td>\n",
       "      <td>-0.1</td>\n",
       "      <td>0</td>\n",
       "      <td>2PT</td>\n",
       "    </tr>\n",
       "    <tr>\n",
       "      <th>558</th>\n",
       "      <td>Team B</td>\n",
       "      <td>22.6</td>\n",
       "      <td>2.9</td>\n",
       "      <td>0</td>\n",
       "      <td>C3</td>\n",
       "    </tr>\n",
       "    <tr>\n",
       "      <th>559</th>\n",
       "      <td>Team B</td>\n",
       "      <td>-0.7</td>\n",
       "      <td>14.7</td>\n",
       "      <td>1</td>\n",
       "      <td>2PT</td>\n",
       "    </tr>\n",
       "  </tbody>\n",
       "</table>\n",
       "<p>280 rows × 5 columns</p>\n",
       "</div>"
      ],
      "text/plain": [
       "       team     x     y  fgmade shot_zone\n",
       "280  Team B   2.5   6.2       0       2PT\n",
       "281  Team B   7.4  18.3       1       2PT\n",
       "282  Team B   1.1   0.1       0       2PT\n",
       "283  Team B  -1.6  25.6       0       NC3\n",
       "284  Team B -14.4  21.7       1       2PT\n",
       "..      ...   ...   ...     ...       ...\n",
       "555  Team B   7.8  24.7       0       NC3\n",
       "556  Team B  10.1   1.4       1       2PT\n",
       "557  Team B -17.8  -0.1       0       2PT\n",
       "558  Team B  22.6   2.9       0        C3\n",
       "559  Team B  -0.7  14.7       1       2PT\n",
       "\n",
       "[280 rows x 5 columns]"
      ]
     },
     "execution_count": 32,
     "metadata": {},
     "output_type": "execute_result"
    }
   ],
   "source": [
    "team_b_stats"
   ]
  },
  {
   "cell_type": "code",
   "execution_count": 33,
   "id": "eeb3bdb6-e449-4ff4-9084-4a6263aba6fd",
   "metadata": {},
   "outputs": [],
   "source": [
    "team_b_distrib =  team_b_stats.groupby(\"shot_zone\").count() / len(team_b_stats)"
   ]
  },
  {
   "cell_type": "code",
   "execution_count": 34,
   "id": "3839daae-c018-48df-a331-779db5005c94",
   "metadata": {},
   "outputs": [],
   "source": [
    "team_b_distrib = team_b_distrib.drop([\"team\", \"x\", \"y\"],axis = 1)"
   ]
  },
  {
   "cell_type": "markdown",
   "id": "12dde512-f758-4431-bbbc-456d792c1fa5",
   "metadata": {
    "tags": []
   },
   "source": [
    "### This is the percentage of team B shots within each zone"
   ]
  },
  {
   "cell_type": "code",
   "execution_count": 35,
   "id": "8b0889f1-5e84-408a-aa66-12784f772a61",
   "metadata": {},
   "outputs": [
    {
     "data": {
      "text/html": [
       "<div>\n",
       "<style scoped>\n",
       "    .dataframe tbody tr th:only-of-type {\n",
       "        vertical-align: middle;\n",
       "    }\n",
       "\n",
       "    .dataframe tbody tr th {\n",
       "        vertical-align: top;\n",
       "    }\n",
       "\n",
       "    .dataframe thead th {\n",
       "        text-align: right;\n",
       "    }\n",
       "</style>\n",
       "<table border=\"1\" class=\"dataframe\">\n",
       "  <thead>\n",
       "    <tr style=\"text-align: right;\">\n",
       "      <th></th>\n",
       "      <th>fgmade</th>\n",
       "    </tr>\n",
       "    <tr>\n",
       "      <th>shot_zone</th>\n",
       "      <th></th>\n",
       "    </tr>\n",
       "  </thead>\n",
       "  <tbody>\n",
       "    <tr>\n",
       "      <th>2PT</th>\n",
       "      <td>0.789286</td>\n",
       "    </tr>\n",
       "    <tr>\n",
       "      <th>C3</th>\n",
       "      <td>0.075000</td>\n",
       "    </tr>\n",
       "    <tr>\n",
       "      <th>NC3</th>\n",
       "      <td>0.135714</td>\n",
       "    </tr>\n",
       "  </tbody>\n",
       "</table>\n",
       "</div>"
      ],
      "text/plain": [
       "             fgmade\n",
       "shot_zone          \n",
       "2PT        0.789286\n",
       "C3         0.075000\n",
       "NC3        0.135714"
      ]
     },
     "execution_count": 35,
     "metadata": {},
     "output_type": "execute_result"
    }
   ],
   "source": [
    "team_b_distrib"
   ]
  },
  {
   "cell_type": "markdown",
   "id": "67bd61bd-0cc0-437b-ba2c-9fe037bd13a4",
   "metadata": {},
   "source": [
    "### Now we are going to find the `effective field goal %` for each shot zone for **Team B**"
   ]
  },
  {
   "cell_type": "markdown",
   "id": "69ca86cd-4587-46c5-bd1e-e7dbe4171490",
   "metadata": {},
   "source": [
    "## **Corner Threes**"
   ]
  },
  {
   "cell_type": "code",
   "execution_count": 36,
   "id": "97b33ebd-b4c5-4d11-8c42-cb32ded70267",
   "metadata": {},
   "outputs": [],
   "source": [
    "team_b_corner_threes = team_b_stats[team_b_stats[\"shot_zone\"] == \"C3\"]"
   ]
  },
  {
   "cell_type": "code",
   "execution_count": 37,
   "id": "e34d91ff-8c31-43b5-9203-58121d5352b9",
   "metadata": {},
   "outputs": [
    {
     "data": {
      "text/plain": [
       "21"
      ]
     },
     "execution_count": 37,
     "metadata": {},
     "output_type": "execute_result"
    }
   ],
   "source": [
    "len(team_b_corner_threes)"
   ]
  },
  {
   "cell_type": "code",
   "execution_count": 38,
   "id": "293c117b-91d3-4a83-9eb0-565d7569dee2",
   "metadata": {},
   "outputs": [],
   "source": [
    "team_b_corner_makes = int(len(team_b_corner_threes[team_b_corner_threes[\"fgmade\"] == 1]))"
   ]
  },
  {
   "cell_type": "code",
   "execution_count": 39,
   "id": "6d611615-3d88-4199-bcf4-6b34b76356e6",
   "metadata": {},
   "outputs": [
    {
     "data": {
      "text/plain": [
       "5"
      ]
     },
     "execution_count": 39,
     "metadata": {},
     "output_type": "execute_result"
    }
   ],
   "source": [
    "team_b_corner_makes"
   ]
  },
  {
   "cell_type": "code",
   "execution_count": 40,
   "id": "754077d8-1ec7-4afc-852a-59344a6bc109",
   "metadata": {},
   "outputs": [],
   "source": [
    "c3_eff_fg_percentage = (team_b_corner_makes + (0.5 * team_b_corner_makes))/ int(len(team_b_corner_threes))"
   ]
  },
  {
   "cell_type": "code",
   "execution_count": 41,
   "id": "44ce95fd-95bc-43f5-9800-7ba6478b37c2",
   "metadata": {},
   "outputs": [
    {
     "data": {
      "text/plain": [
       "0.35714285714285715"
      ]
     },
     "execution_count": 41,
     "metadata": {},
     "output_type": "execute_result"
    }
   ],
   "source": [
    "c3_eff_fg_percentage"
   ]
  },
  {
   "cell_type": "markdown",
   "id": "d619006d-325c-4a37-a708-cb8d6903d124",
   "metadata": {},
   "source": [
    "#### The effective field goal percentage for **corner threes** is `35.7%` for Team B"
   ]
  },
  {
   "cell_type": "markdown",
   "id": "eded113c-1d2b-48fc-9c66-b87497e9a80d",
   "metadata": {},
   "source": [
    "## Non-Corner Threes"
   ]
  },
  {
   "cell_type": "code",
   "execution_count": 42,
   "id": "d86e5b6d-063f-4696-97f8-71c4858e62d9",
   "metadata": {},
   "outputs": [],
   "source": [
    "team_b_nc3s = team_b_stats[team_b_stats[\"shot_zone\"] == \"NC3\"]"
   ]
  },
  {
   "cell_type": "code",
   "execution_count": 43,
   "id": "604e72ba-67d6-4d39-b501-7da4eddc966b",
   "metadata": {},
   "outputs": [
    {
     "data": {
      "text/plain": [
       "38"
      ]
     },
     "execution_count": 43,
     "metadata": {},
     "output_type": "execute_result"
    }
   ],
   "source": [
    "len(team_b_nc3s)"
   ]
  },
  {
   "cell_type": "code",
   "execution_count": 44,
   "id": "690323e0-e743-49f0-bf07-72d6d48ad93b",
   "metadata": {},
   "outputs": [],
   "source": [
    "team_b_nc3_makes = int(len(team_b_nc3s[team_b_nc3s[\"fgmade\"] == 1]))"
   ]
  },
  {
   "cell_type": "code",
   "execution_count": 45,
   "id": "28ca6486-fc52-490e-8451-0e148dae36e9",
   "metadata": {},
   "outputs": [
    {
     "data": {
      "text/plain": [
       "13"
      ]
     },
     "execution_count": 45,
     "metadata": {},
     "output_type": "execute_result"
    }
   ],
   "source": [
    "team_b_nc3_makes"
   ]
  },
  {
   "cell_type": "code",
   "execution_count": 46,
   "id": "6ee2bd9b-3903-49c5-b5c5-37bd120269b5",
   "metadata": {},
   "outputs": [],
   "source": [
    "nc3_eff_fg_percentage = (team_b_nc3_makes + (0.5 * team_b_nc3_makes)) / int(len(team_b_nc3s))"
   ]
  },
  {
   "cell_type": "code",
   "execution_count": 47,
   "id": "a03946a9-7ad7-411b-925a-7f8364550a53",
   "metadata": {},
   "outputs": [
    {
     "data": {
      "text/plain": [
       "0.5131578947368421"
      ]
     },
     "execution_count": 47,
     "metadata": {},
     "output_type": "execute_result"
    }
   ],
   "source": [
    "nc3_eff_fg_percentage"
   ]
  },
  {
   "cell_type": "markdown",
   "id": "f45dc6d0-f691-4c3a-8d50-f4c43a50eceb",
   "metadata": {},
   "source": [
    "#### Once we do this calculation, we can conclude that the effective field goal percentage for Team B for Non_Corner 3s is 51.3%"
   ]
  },
  {
   "cell_type": "markdown",
   "id": "0363627c-7d83-49a7-b2d5-7ce362102040",
   "metadata": {},
   "source": [
    "## 2PT"
   ]
  },
  {
   "cell_type": "code",
   "execution_count": 48,
   "id": "71fb9a94-b0f2-48dd-adf6-ce6dd9384324",
   "metadata": {},
   "outputs": [],
   "source": [
    "team_b_2pt_attempts = team_b_stats[team_b_stats[\"shot_zone\"] == \"2PT\"]"
   ]
  },
  {
   "cell_type": "code",
   "execution_count": 49,
   "id": "1bbb0853-1730-449a-b796-42eeae1755ba",
   "metadata": {},
   "outputs": [
    {
     "data": {
      "text/html": [
       "<div>\n",
       "<style scoped>\n",
       "    .dataframe tbody tr th:only-of-type {\n",
       "        vertical-align: middle;\n",
       "    }\n",
       "\n",
       "    .dataframe tbody tr th {\n",
       "        vertical-align: top;\n",
       "    }\n",
       "\n",
       "    .dataframe thead th {\n",
       "        text-align: right;\n",
       "    }\n",
       "</style>\n",
       "<table border=\"1\" class=\"dataframe\">\n",
       "  <thead>\n",
       "    <tr style=\"text-align: right;\">\n",
       "      <th></th>\n",
       "      <th>team</th>\n",
       "      <th>x</th>\n",
       "      <th>y</th>\n",
       "      <th>fgmade</th>\n",
       "      <th>shot_zone</th>\n",
       "    </tr>\n",
       "  </thead>\n",
       "  <tbody>\n",
       "    <tr>\n",
       "      <th>280</th>\n",
       "      <td>Team B</td>\n",
       "      <td>2.5</td>\n",
       "      <td>6.2</td>\n",
       "      <td>0</td>\n",
       "      <td>2PT</td>\n",
       "    </tr>\n",
       "    <tr>\n",
       "      <th>281</th>\n",
       "      <td>Team B</td>\n",
       "      <td>7.4</td>\n",
       "      <td>18.3</td>\n",
       "      <td>1</td>\n",
       "      <td>2PT</td>\n",
       "    </tr>\n",
       "    <tr>\n",
       "      <th>282</th>\n",
       "      <td>Team B</td>\n",
       "      <td>1.1</td>\n",
       "      <td>0.1</td>\n",
       "      <td>0</td>\n",
       "      <td>2PT</td>\n",
       "    </tr>\n",
       "    <tr>\n",
       "      <th>284</th>\n",
       "      <td>Team B</td>\n",
       "      <td>-14.4</td>\n",
       "      <td>21.7</td>\n",
       "      <td>1</td>\n",
       "      <td>2PT</td>\n",
       "    </tr>\n",
       "    <tr>\n",
       "      <th>285</th>\n",
       "      <td>Team B</td>\n",
       "      <td>-10.6</td>\n",
       "      <td>23.5</td>\n",
       "      <td>1</td>\n",
       "      <td>2PT</td>\n",
       "    </tr>\n",
       "    <tr>\n",
       "      <th>...</th>\n",
       "      <td>...</td>\n",
       "      <td>...</td>\n",
       "      <td>...</td>\n",
       "      <td>...</td>\n",
       "      <td>...</td>\n",
       "    </tr>\n",
       "    <tr>\n",
       "      <th>553</th>\n",
       "      <td>Team B</td>\n",
       "      <td>1.1</td>\n",
       "      <td>2.3</td>\n",
       "      <td>1</td>\n",
       "      <td>2PT</td>\n",
       "    </tr>\n",
       "    <tr>\n",
       "      <th>554</th>\n",
       "      <td>Team B</td>\n",
       "      <td>20.5</td>\n",
       "      <td>14.1</td>\n",
       "      <td>0</td>\n",
       "      <td>2PT</td>\n",
       "    </tr>\n",
       "    <tr>\n",
       "      <th>556</th>\n",
       "      <td>Team B</td>\n",
       "      <td>10.1</td>\n",
       "      <td>1.4</td>\n",
       "      <td>1</td>\n",
       "      <td>2PT</td>\n",
       "    </tr>\n",
       "    <tr>\n",
       "      <th>557</th>\n",
       "      <td>Team B</td>\n",
       "      <td>-17.8</td>\n",
       "      <td>-0.1</td>\n",
       "      <td>0</td>\n",
       "      <td>2PT</td>\n",
       "    </tr>\n",
       "    <tr>\n",
       "      <th>559</th>\n",
       "      <td>Team B</td>\n",
       "      <td>-0.7</td>\n",
       "      <td>14.7</td>\n",
       "      <td>1</td>\n",
       "      <td>2PT</td>\n",
       "    </tr>\n",
       "  </tbody>\n",
       "</table>\n",
       "<p>221 rows × 5 columns</p>\n",
       "</div>"
      ],
      "text/plain": [
       "       team     x     y  fgmade shot_zone\n",
       "280  Team B   2.5   6.2       0       2PT\n",
       "281  Team B   7.4  18.3       1       2PT\n",
       "282  Team B   1.1   0.1       0       2PT\n",
       "284  Team B -14.4  21.7       1       2PT\n",
       "285  Team B -10.6  23.5       1       2PT\n",
       "..      ...   ...   ...     ...       ...\n",
       "553  Team B   1.1   2.3       1       2PT\n",
       "554  Team B  20.5  14.1       0       2PT\n",
       "556  Team B  10.1   1.4       1       2PT\n",
       "557  Team B -17.8  -0.1       0       2PT\n",
       "559  Team B  -0.7  14.7       1       2PT\n",
       "\n",
       "[221 rows x 5 columns]"
      ]
     },
     "execution_count": 49,
     "metadata": {},
     "output_type": "execute_result"
    }
   ],
   "source": [
    "team_b_2pt_attempts"
   ]
  },
  {
   "cell_type": "code",
   "execution_count": 50,
   "id": "2ffdc10c-0ccc-458e-84ca-f14a8a399250",
   "metadata": {},
   "outputs": [],
   "source": [
    "team_b_2pt_makes = int(len(team_b_2pt_attempts[team_b_2pt_attempts[\"fgmade\"] == 1]))"
   ]
  },
  {
   "cell_type": "code",
   "execution_count": 51,
   "id": "0ca75947-dd4d-46d4-a433-b56989376bbe",
   "metadata": {},
   "outputs": [
    {
     "data": {
      "text/plain": [
       "97"
      ]
     },
     "execution_count": 51,
     "metadata": {},
     "output_type": "execute_result"
    }
   ],
   "source": [
    "team_b_2pt_makes"
   ]
  },
  {
   "cell_type": "code",
   "execution_count": 52,
   "id": "516d86fb-2e2e-483e-a162-87d1ccde7482",
   "metadata": {},
   "outputs": [],
   "source": [
    "two_pt_eff_fg_percentage = team_b_2pt_makes / int(len(team_b_2pt_attempts))"
   ]
  },
  {
   "cell_type": "code",
   "execution_count": 53,
   "id": "3620251e-3cf2-4c7a-8f5b-51e1ac2158b6",
   "metadata": {},
   "outputs": [
    {
     "data": {
      "text/plain": [
       "0.43891402714932126"
      ]
     },
     "execution_count": 53,
     "metadata": {},
     "output_type": "execute_result"
    }
   ],
   "source": [
    "two_pt_eff_fg_percentage"
   ]
  },
  {
   "cell_type": "markdown",
   "id": "2ac73f20-d15a-4e8b-9e1c-dfacadb949ba",
   "metadata": {},
   "source": [
    "### Once we do this calculation, we can conclude that the effective field goal percentage for Team B's 2PT conversions is 43.9%"
   ]
  }
 ],
 "metadata": {
  "kernelspec": {
   "display_name": "Python 3 (ipykernel)",
   "language": "python",
   "name": "python3"
  },
  "language_info": {
   "codemirror_mode": {
    "name": "ipython",
    "version": 3
   },
   "file_extension": ".py",
   "mimetype": "text/x-python",
   "name": "python",
   "nbconvert_exporter": "python",
   "pygments_lexer": "ipython3",
   "version": "3.9.6"
  }
 },
 "nbformat": 4,
 "nbformat_minor": 5
}
